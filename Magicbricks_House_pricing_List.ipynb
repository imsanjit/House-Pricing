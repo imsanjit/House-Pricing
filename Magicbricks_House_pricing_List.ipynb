{
  "nbformat": 4,
  "nbformat_minor": 0,
  "metadata": {
    "colab": {
      "name": "Magicbricks House pricing List",
      "version": "0.3.2",
      "provenance": [],
      "collapsed_sections": []
    },
    "kernelspec": {
      "name": "python3",
      "display_name": "Python 3"
    }
  },
  "cells": [
    {
      "metadata": {
        "id": "zE4E8ZOmB09q",
        "colab_type": "code",
        "colab": {}
      },
      "cell_type": "code",
      "source": [
        "#importing liabrary\n",
        "import requests\n",
        "from bs4 import BeautifulSoup\n",
        "import pandas as pd\n",
        "import numpy as np\n",
        "import csv\n",
        "import re\n",
        "import seaborn as sns\n",
        "import matplotlib.pyplot as plt\n",
        "%matplotlib inline\n",
        "plt.rcParams['figure.figsize'] = (15,7)\n",
        "from sklearn.model_selection import train_test_split"
      ],
      "execution_count": 0,
      "outputs": []
    },
    {
      "metadata": {
        "id": "Xk-2VIssKZQs",
        "colab_type": "code",
        "colab": {}
      },
      "cell_type": "code",
      "source": [
        "#Getting data from Magicbrick website \n",
        "\n",
        "page_no = 2\n",
        "\n",
        "\n",
        "csv_file = open('housing_price_magicbricks_data.csv', 'w')\n",
        "csv_writer = csv.writer(csv_file)\n",
        "csv_writer.writerow(['Price', 'Area', 'Bedrooms' ])\n",
        "\n",
        "\n",
        "while page_no < 150:\n",
        "  url_in=\"https://www.magicbricks.com/independent-house-for-sale-in-bangalore-pppfs/page-\"+str(page_no)\n",
        "  \n",
        "  response = requests.get(url_in)\n",
        "  html_soup = BeautifulSoup(response.text, 'html.parser')\n",
        "  all_info =html_soup.find_all(class_='flex relative clearfix m-srp-card__container')\n",
        "\n",
        "\n",
        "  for x in all_info:\n",
        "    price = x.find(class_=\"m-srp-card__price\").text\n",
        "    area = x.find_all(class_=\"m-srp-card__summary__info\")[0].text.replace(' sqft','')\n",
        "    bedrooms = x.find(class_=\"m-srp-card__title\").text.replace('\\n',' ')\n",
        "    csv_writer.writerow([price, area, bedrooms])\n",
        "\n",
        "  next_page = \"https://www.magicbricks.com/independent-house-for-sale-in-bangalore-pppfs/page-\"+str(page_no)\n",
        "  page_no += 1\n",
        "  \n",
        "  \n",
        "csv_file.close()"
      ],
      "execution_count": 0,
      "outputs": []
    },
    {
      "metadata": {
        "id": "LlWwno2YuR11",
        "colab_type": "code",
        "outputId": "f6617c6a-7e1e-4e27-986e-da5d3c0db596",
        "colab": {
          "base_uri": "https://localhost:8080/",
          "height": 204
        }
      },
      "cell_type": "code",
      "source": [
        "#reading data \n",
        "\n",
        "df = pd.read_csv('housing_price_magicbricks_data.csv')\n",
        "df.head()"
      ],
      "execution_count": 3,
      "outputs": [
        {
          "output_type": "execute_result",
          "data": {
            "text/html": [
              "<div>\n",
              "<style scoped>\n",
              "    .dataframe tbody tr th:only-of-type {\n",
              "        vertical-align: middle;\n",
              "    }\n",
              "\n",
              "    .dataframe tbody tr th {\n",
              "        vertical-align: top;\n",
              "    }\n",
              "\n",
              "    .dataframe thead th {\n",
              "        text-align: right;\n",
              "    }\n",
              "</style>\n",
              "<table border=\"1\" class=\"dataframe\">\n",
              "  <thead>\n",
              "    <tr style=\"text-align: right;\">\n",
              "      <th></th>\n",
              "      <th>Price</th>\n",
              "      <th>Area</th>\n",
              "      <th>Bedrooms</th>\n",
              "    </tr>\n",
              "  </thead>\n",
              "  <tbody>\n",
              "    <tr>\n",
              "      <th>0</th>\n",
              "      <td>2.10 Cr</td>\n",
              "      <td>2000 sqft</td>\n",
              "      <td>\\t\\t\\t            \\t\\t \\t\\t\\t            \\t\\...</td>\n",
              "    </tr>\n",
              "    <tr>\n",
              "      <th>1</th>\n",
              "      <td>1.50 Cr</td>\n",
              "      <td>3400 sqft</td>\n",
              "      <td>\\t\\t\\t            \\t\\t \\t\\t\\t            \\t\\...</td>\n",
              "    </tr>\n",
              "    <tr>\n",
              "      <th>2</th>\n",
              "      <td>3 Cr</td>\n",
              "      <td>2400 sqft</td>\n",
              "      <td>\\t\\t\\t            \\t\\t \\t\\t\\t            \\t\\...</td>\n",
              "    </tr>\n",
              "    <tr>\n",
              "      <th>3</th>\n",
              "      <td>61 Lac</td>\n",
              "      <td>1450 sqft</td>\n",
              "      <td>\\t\\t\\t            \\t\\t \\t\\t\\t            \\t\\...</td>\n",
              "    </tr>\n",
              "    <tr>\n",
              "      <th>4</th>\n",
              "      <td>40.70 Cr</td>\n",
              "      <td>1850 sqft</td>\n",
              "      <td>\\t\\t\\t            \\t\\t \\t\\t\\t            \\t\\...</td>\n",
              "    </tr>\n",
              "  </tbody>\n",
              "</table>\n",
              "</div>"
            ],
            "text/plain": [
              "      Price       Area                                           Bedrooms\n",
              "0   2.10 Cr  2000 sqft    \\t\\t\\t            \\t\\t \\t\\t\\t            \\t\\...\n",
              "1   1.50 Cr  3400 sqft    \\t\\t\\t            \\t\\t \\t\\t\\t            \\t\\...\n",
              "2      3 Cr  2400 sqft    \\t\\t\\t            \\t\\t \\t\\t\\t            \\t\\...\n",
              "3    61 Lac  1450 sqft    \\t\\t\\t            \\t\\t \\t\\t\\t            \\t\\...\n",
              "4  40.70 Cr  1850 sqft    \\t\\t\\t            \\t\\t \\t\\t\\t            \\t\\..."
            ]
          },
          "metadata": {
            "tags": []
          },
          "execution_count": 3
        }
      ]
    },
    {
      "metadata": {
        "id": "IEOODO5TuSLw",
        "colab_type": "code",
        "outputId": "9147e3a5-40cd-4b83-82b0-8ecb730d6788",
        "colab": {
          "base_uri": "https://localhost:8080/",
          "height": 204
        }
      },
      "cell_type": "code",
      "source": [
        "#Some feature engineering\n",
        "#Extaracting area in numbers\n",
        "df['Area'] = df['Area'].str.extract('(\\d+)', expand=True) \n",
        "\n",
        "#separating location and number of bedrooms\n",
        "df['Location'] = df['Bedrooms'] \n",
        "\n",
        "#extracting number of bedrooms only\n",
        "df['Bedrooms'] = df['Bedrooms'].str.extract('(\\d+)', expand=True) \n",
        "\n",
        "#removing unwanted text from location column till \"in\" text\n",
        "def removeAfterIn(string):\n",
        "    return string.split('in ')[1].strip()\n",
        "df.Location = df.Location.apply(removeAfterIn)\n",
        "\n",
        "#removing \"Bangalore\" word from the loation column\n",
        "def removeAfterBangalore(string):\n",
        "    return string.split(' Bangalore')[0].strip()\n",
        "df.Location = df.Location.apply(removeAfterBangalore)\n",
        "\n",
        "#removing \"comma\" from location column\n",
        "def removeAfterComma(string):\n",
        "    return string.split(',')[0].strip()\n",
        "df.Location = df.Location.apply(removeAfterComma)\n",
        "\n",
        "#converting \"Cr\" and \"Lac\" in number\n",
        "def convert_si_to_number(x):\n",
        "    total_stars = 0\n",
        "    if 'Cr' in x:\n",
        "        if len(x) > 1:\n",
        "            total_stars = float(x.replace('Cr', '')) * 10000000 \n",
        "    elif 'Lac' in x:\n",
        "        if len(x) > 1:\n",
        "            total_stars = float(x.replace('Lac', '')) * 100000 \n",
        "    else:\n",
        "        total_stars = int(x)\n",
        "    \n",
        "    return int(total_stars)\n",
        "  \n",
        "df.Price = df.Price.apply(convert_si_to_number)\n",
        "\n",
        "df.head()"
      ],
      "execution_count": 4,
      "outputs": [
        {
          "output_type": "execute_result",
          "data": {
            "text/html": [
              "<div>\n",
              "<style scoped>\n",
              "    .dataframe tbody tr th:only-of-type {\n",
              "        vertical-align: middle;\n",
              "    }\n",
              "\n",
              "    .dataframe tbody tr th {\n",
              "        vertical-align: top;\n",
              "    }\n",
              "\n",
              "    .dataframe thead th {\n",
              "        text-align: right;\n",
              "    }\n",
              "</style>\n",
              "<table border=\"1\" class=\"dataframe\">\n",
              "  <thead>\n",
              "    <tr style=\"text-align: right;\">\n",
              "      <th></th>\n",
              "      <th>Price</th>\n",
              "      <th>Area</th>\n",
              "      <th>Bedrooms</th>\n",
              "      <th>Location</th>\n",
              "    </tr>\n",
              "  </thead>\n",
              "  <tbody>\n",
              "    <tr>\n",
              "      <th>0</th>\n",
              "      <td>21000000</td>\n",
              "      <td>2000</td>\n",
              "      <td>3</td>\n",
              "      <td>Sarjapur Road</td>\n",
              "    </tr>\n",
              "    <tr>\n",
              "      <th>1</th>\n",
              "      <td>15000000</td>\n",
              "      <td>3400</td>\n",
              "      <td>4</td>\n",
              "      <td>Chandapura</td>\n",
              "    </tr>\n",
              "    <tr>\n",
              "      <th>2</th>\n",
              "      <td>30000000</td>\n",
              "      <td>2400</td>\n",
              "      <td>4</td>\n",
              "      <td>Hrbr Layout</td>\n",
              "    </tr>\n",
              "    <tr>\n",
              "      <th>3</th>\n",
              "      <td>6100000</td>\n",
              "      <td>1450</td>\n",
              "      <td>3</td>\n",
              "      <td>Anekal</td>\n",
              "    </tr>\n",
              "    <tr>\n",
              "      <th>4</th>\n",
              "      <td>407000000</td>\n",
              "      <td>1850</td>\n",
              "      <td>10</td>\n",
              "      <td>Chowdeswari Layout - Subbannapalya</td>\n",
              "    </tr>\n",
              "  </tbody>\n",
              "</table>\n",
              "</div>"
            ],
            "text/plain": [
              "       Price  Area Bedrooms                            Location\n",
              "0   21000000  2000        3                       Sarjapur Road\n",
              "1   15000000  3400        4                          Chandapura\n",
              "2   30000000  2400        4                         Hrbr Layout\n",
              "3    6100000  1450        3                              Anekal\n",
              "4  407000000  1850       10  Chowdeswari Layout - Subbannapalya"
            ]
          },
          "metadata": {
            "tags": []
          },
          "execution_count": 4
        }
      ]
    },
    {
      "metadata": {
        "id": "CnYKmexR8cq0",
        "colab_type": "code",
        "outputId": "7f8fdb1e-4a9c-45e9-d02a-62cd7076910a",
        "colab": {
          "base_uri": "https://localhost:8080/",
          "height": 170
        }
      },
      "cell_type": "code",
      "source": [
        "#checking dataset information\n",
        "df.info()"
      ],
      "execution_count": 5,
      "outputs": [
        {
          "output_type": "stream",
          "text": [
            "<class 'pandas.core.frame.DataFrame'>\n",
            "RangeIndex: 4489 entries, 0 to 4488\n",
            "Data columns (total 4 columns):\n",
            "Price       4489 non-null int64\n",
            "Area        4483 non-null object\n",
            "Bedrooms    4451 non-null object\n",
            "Location    4489 non-null object\n",
            "dtypes: int64(1), object(3)\n",
            "memory usage: 140.4+ KB\n"
          ],
          "name": "stdout"
        }
      ]
    },
    {
      "metadata": {
        "id": "cuVoJY6v-hFY",
        "colab_type": "code",
        "outputId": "b4c9a900-c7ea-48a3-83e1-45cf74e0e817",
        "colab": {
          "base_uri": "https://localhost:8080/",
          "height": 170
        }
      },
      "cell_type": "code",
      "source": [
        "#converting data type\n",
        "df.Price = pd.to_numeric(df.Price, errors='coerce')\n",
        "df.Area = pd.to_numeric(df.Area, errors='coerce')\n",
        "df.Bedrooms = pd.to_numeric(df.Bedrooms, errors='coerce')\n",
        "df.Location = df.Location.astype('category')\n",
        "df.info()"
      ],
      "execution_count": 6,
      "outputs": [
        {
          "output_type": "stream",
          "text": [
            "<class 'pandas.core.frame.DataFrame'>\n",
            "RangeIndex: 4489 entries, 0 to 4488\n",
            "Data columns (total 4 columns):\n",
            "Price       4489 non-null int64\n",
            "Area        4483 non-null float64\n",
            "Bedrooms    4451 non-null float64\n",
            "Location    4489 non-null category\n",
            "dtypes: category(1), float64(2), int64(1)\n",
            "memory usage: 160.6 KB\n"
          ],
          "name": "stdout"
        }
      ]
    },
    {
      "metadata": {
        "id": "04FatYp4AihI",
        "colab_type": "code",
        "outputId": "449a259e-af36-4244-b581-8f302eafb674",
        "colab": {
          "base_uri": "https://localhost:8080/",
          "height": 34
        }
      },
      "cell_type": "code",
      "source": [
        "#Kowning dataset\n",
        "df.shape"
      ],
      "execution_count": 7,
      "outputs": [
        {
          "output_type": "execute_result",
          "data": {
            "text/plain": [
              "(4489, 4)"
            ]
          },
          "metadata": {
            "tags": []
          },
          "execution_count": 7
        }
      ]
    },
    {
      "metadata": {
        "id": "7BcFJHnxH2vJ",
        "colab_type": "code",
        "outputId": "67e5a16a-5106-45b4-fddc-119ffd431f5a",
        "colab": {
          "base_uri": "https://localhost:8080/",
          "height": 102
        }
      },
      "cell_type": "code",
      "source": [
        "#Check for missing or null values in the data set\n",
        "df.isnull().any()"
      ],
      "execution_count": 8,
      "outputs": [
        {
          "output_type": "execute_result",
          "data": {
            "text/plain": [
              "Price       False\n",
              "Area         True\n",
              "Bedrooms     True\n",
              "Location    False\n",
              "dtype: bool"
            ]
          },
          "metadata": {
            "tags": []
          },
          "execution_count": 8
        }
      ]
    },
    {
      "metadata": {
        "id": "TOlwJhVvII8M",
        "colab_type": "code",
        "colab": {}
      },
      "cell_type": "code",
      "source": [
        "df.dropna(subset=['Bedrooms'], how='all', inplace = True)"
      ],
      "execution_count": 0,
      "outputs": []
    },
    {
      "metadata": {
        "id": "NJYTVxrCIhs5",
        "colab_type": "code",
        "outputId": "d95d4fde-9d1b-4343-f187-6f675372dfb9",
        "colab": {
          "base_uri": "https://localhost:8080/",
          "height": 34
        }
      },
      "cell_type": "code",
      "source": [
        "df.shape"
      ],
      "execution_count": 10,
      "outputs": [
        {
          "output_type": "execute_result",
          "data": {
            "text/plain": [
              "(4451, 4)"
            ]
          },
          "metadata": {
            "tags": []
          },
          "execution_count": 10
        }
      ]
    },
    {
      "metadata": {
        "id": "hNH0ufxsJJHN",
        "colab_type": "code",
        "outputId": "0f252e7a-1ea7-46ce-a7da-ac11ad7d5ff4",
        "colab": {
          "base_uri": "https://localhost:8080/",
          "height": 102
        }
      },
      "cell_type": "code",
      "source": [
        "df.isnull().any()"
      ],
      "execution_count": 11,
      "outputs": [
        {
          "output_type": "execute_result",
          "data": {
            "text/plain": [
              "Price       False\n",
              "Area         True\n",
              "Bedrooms    False\n",
              "Location    False\n",
              "dtype: bool"
            ]
          },
          "metadata": {
            "tags": []
          },
          "execution_count": 11
        }
      ]
    },
    {
      "metadata": {
        "id": "pAy_VG0LKTs6",
        "colab_type": "code",
        "colab": {}
      },
      "cell_type": "code",
      "source": [
        "df.dropna(subset=['Area'], how='all', inplace = True)"
      ],
      "execution_count": 0,
      "outputs": []
    },
    {
      "metadata": {
        "id": "Sf88FfJsKWlS",
        "colab_type": "code",
        "outputId": "e97a4665-28c8-4e8e-b331-c056374de2ab",
        "colab": {
          "base_uri": "https://localhost:8080/",
          "height": 102
        }
      },
      "cell_type": "code",
      "source": [
        "df.isnull().any()"
      ],
      "execution_count": 13,
      "outputs": [
        {
          "output_type": "execute_result",
          "data": {
            "text/plain": [
              "Price       False\n",
              "Area        False\n",
              "Bedrooms    False\n",
              "Location    False\n",
              "dtype: bool"
            ]
          },
          "metadata": {
            "tags": []
          },
          "execution_count": 13
        }
      ]
    },
    {
      "metadata": {
        "id": "pwHRFGmCKWoV",
        "colab_type": "code",
        "outputId": "518f346d-caf7-4d7c-fac3-7cfefa460e0a",
        "colab": {
          "base_uri": "https://localhost:8080/",
          "height": 170
        }
      },
      "cell_type": "code",
      "source": [
        "df.info()"
      ],
      "execution_count": 14,
      "outputs": [
        {
          "output_type": "stream",
          "text": [
            "<class 'pandas.core.frame.DataFrame'>\n",
            "Int64Index: 4447 entries, 0 to 4488\n",
            "Data columns (total 4 columns):\n",
            "Price       4447 non-null int64\n",
            "Area        4447 non-null float64\n",
            "Bedrooms    4447 non-null float64\n",
            "Location    4447 non-null category\n",
            "dtypes: category(1), float64(2), int64(1)\n",
            "memory usage: 194.2 KB\n"
          ],
          "name": "stdout"
        }
      ]
    },
    {
      "metadata": {
        "id": "t0fNyP3BK_jf",
        "colab_type": "code",
        "colab": {}
      },
      "cell_type": "code",
      "source": [
        "#converting data type\n",
        "df.Price = pd.to_numeric(df.Price, errors='coerce')\n",
        "df.Area = pd.to_numeric(df.Area, errors='coerce')\n",
        "df.Bedrooms = pd.to_numeric(df.Bedrooms, errors='coerce')\n",
        "df.Location = df.Location.astype('category')\n"
      ],
      "execution_count": 0,
      "outputs": []
    },
    {
      "metadata": {
        "id": "tYN9rTWgKWwQ",
        "colab_type": "code",
        "outputId": "41ed9ec6-ef0f-4968-d200-fd9419bd5bd1",
        "colab": {
          "base_uri": "https://localhost:8080/",
          "height": 34
        }
      },
      "cell_type": "code",
      "source": [
        "df.shape"
      ],
      "execution_count": 16,
      "outputs": [
        {
          "output_type": "execute_result",
          "data": {
            "text/plain": [
              "(4447, 4)"
            ]
          },
          "metadata": {
            "tags": []
          },
          "execution_count": 16
        }
      ]
    },
    {
      "metadata": {
        "id": "E1UA_KahKetp",
        "colab_type": "code",
        "outputId": "3e4c18b9-f2e6-4152-be5b-832626c31414",
        "colab": {
          "base_uri": "https://localhost:8080/",
          "height": 297
        }
      },
      "cell_type": "code",
      "source": [
        "df.describe()"
      ],
      "execution_count": 17,
      "outputs": [
        {
          "output_type": "execute_result",
          "data": {
            "text/html": [
              "<div>\n",
              "<style scoped>\n",
              "    .dataframe tbody tr th:only-of-type {\n",
              "        vertical-align: middle;\n",
              "    }\n",
              "\n",
              "    .dataframe tbody tr th {\n",
              "        vertical-align: top;\n",
              "    }\n",
              "\n",
              "    .dataframe thead th {\n",
              "        text-align: right;\n",
              "    }\n",
              "</style>\n",
              "<table border=\"1\" class=\"dataframe\">\n",
              "  <thead>\n",
              "    <tr style=\"text-align: right;\">\n",
              "      <th></th>\n",
              "      <th>Price</th>\n",
              "      <th>Area</th>\n",
              "      <th>Bedrooms</th>\n",
              "    </tr>\n",
              "  </thead>\n",
              "  <tbody>\n",
              "    <tr>\n",
              "      <th>count</th>\n",
              "      <td>4.447000e+03</td>\n",
              "      <td>4447.000000</td>\n",
              "      <td>4447.000000</td>\n",
              "    </tr>\n",
              "    <tr>\n",
              "      <th>mean</th>\n",
              "      <td>2.201094e+07</td>\n",
              "      <td>2332.147515</td>\n",
              "      <td>4.011693</td>\n",
              "    </tr>\n",
              "    <tr>\n",
              "      <th>std</th>\n",
              "      <td>2.771561e+07</td>\n",
              "      <td>2143.934687</td>\n",
              "      <td>2.186707</td>\n",
              "    </tr>\n",
              "    <tr>\n",
              "      <th>min</th>\n",
              "      <td>1.000000e+05</td>\n",
              "      <td>1.000000</td>\n",
              "      <td>1.000000</td>\n",
              "    </tr>\n",
              "    <tr>\n",
              "      <th>25%</th>\n",
              "      <td>9.000000e+06</td>\n",
              "      <td>1175.000000</td>\n",
              "      <td>2.000000</td>\n",
              "    </tr>\n",
              "    <tr>\n",
              "      <th>50%</th>\n",
              "      <td>1.600000e+07</td>\n",
              "      <td>1840.000000</td>\n",
              "      <td>3.000000</td>\n",
              "    </tr>\n",
              "    <tr>\n",
              "      <th>75%</th>\n",
              "      <td>2.500000e+07</td>\n",
              "      <td>3000.000000</td>\n",
              "      <td>5.000000</td>\n",
              "    </tr>\n",
              "    <tr>\n",
              "      <th>max</th>\n",
              "      <td>1.100000e+09</td>\n",
              "      <td>72000.000000</td>\n",
              "      <td>10.000000</td>\n",
              "    </tr>\n",
              "  </tbody>\n",
              "</table>\n",
              "</div>"
            ],
            "text/plain": [
              "              Price          Area     Bedrooms\n",
              "count  4.447000e+03   4447.000000  4447.000000\n",
              "mean   2.201094e+07   2332.147515     4.011693\n",
              "std    2.771561e+07   2143.934687     2.186707\n",
              "min    1.000000e+05      1.000000     1.000000\n",
              "25%    9.000000e+06   1175.000000     2.000000\n",
              "50%    1.600000e+07   1840.000000     3.000000\n",
              "75%    2.500000e+07   3000.000000     5.000000\n",
              "max    1.100000e+09  72000.000000    10.000000"
            ]
          },
          "metadata": {
            "tags": []
          },
          "execution_count": 17
        }
      ]
    },
    {
      "metadata": {
        "id": "ZeylTY9dKn1f",
        "colab_type": "code",
        "outputId": "eebd58dd-fba3-4984-d088-8aca4969dd83",
        "colab": {
          "base_uri": "https://localhost:8080/",
          "height": 142
        }
      },
      "cell_type": "code",
      "source": [
        "#Picking out the relevant attributes for regression modelling\n",
        "\n",
        "correlation = df.corr()\n",
        "correlation"
      ],
      "execution_count": 18,
      "outputs": [
        {
          "output_type": "execute_result",
          "data": {
            "text/html": [
              "<div>\n",
              "<style scoped>\n",
              "    .dataframe tbody tr th:only-of-type {\n",
              "        vertical-align: middle;\n",
              "    }\n",
              "\n",
              "    .dataframe tbody tr th {\n",
              "        vertical-align: top;\n",
              "    }\n",
              "\n",
              "    .dataframe thead th {\n",
              "        text-align: right;\n",
              "    }\n",
              "</style>\n",
              "<table border=\"1\" class=\"dataframe\">\n",
              "  <thead>\n",
              "    <tr style=\"text-align: right;\">\n",
              "      <th></th>\n",
              "      <th>Price</th>\n",
              "      <th>Area</th>\n",
              "      <th>Bedrooms</th>\n",
              "    </tr>\n",
              "  </thead>\n",
              "  <tbody>\n",
              "    <tr>\n",
              "      <th>Price</th>\n",
              "      <td>1.000000</td>\n",
              "      <td>0.370608</td>\n",
              "      <td>0.341601</td>\n",
              "    </tr>\n",
              "    <tr>\n",
              "      <th>Area</th>\n",
              "      <td>0.370608</td>\n",
              "      <td>1.000000</td>\n",
              "      <td>0.451197</td>\n",
              "    </tr>\n",
              "    <tr>\n",
              "      <th>Bedrooms</th>\n",
              "      <td>0.341601</td>\n",
              "      <td>0.451197</td>\n",
              "      <td>1.000000</td>\n",
              "    </tr>\n",
              "  </tbody>\n",
              "</table>\n",
              "</div>"
            ],
            "text/plain": [
              "             Price      Area  Bedrooms\n",
              "Price     1.000000  0.370608  0.341601\n",
              "Area      0.370608  1.000000  0.451197\n",
              "Bedrooms  0.341601  0.451197  1.000000"
            ]
          },
          "metadata": {
            "tags": []
          },
          "execution_count": 18
        }
      ]
    },
    {
      "metadata": {
        "id": "Xctae_UgMk1g",
        "colab_type": "code",
        "outputId": "cdf05abb-3846-4b93-b6bc-3624732be252",
        "colab": {
          "base_uri": "https://localhost:8080/",
          "height": 449
        }
      },
      "cell_type": "code",
      "source": [
        "#map correlation\n",
        "sns.heatmap(df.corr(),cmap='viridis',annot=True)"
      ],
      "execution_count": 19,
      "outputs": [
        {
          "output_type": "execute_result",
          "data": {
            "text/plain": [
              "<matplotlib.axes._subplots.AxesSubplot at 0x7f0e0c8a5e80>"
            ]
          },
          "metadata": {
            "tags": []
          },
          "execution_count": 19
        },
        {
          "output_type": "display_data",
          "data": {
            "image/png": "[encoded data removed]",
            "text/plain": [
              "<Figure size 1080x504 with 2 Axes>"
            ]
          },
          "metadata": {
            "tags": []
          }
        }
      ]
    },
    {
      "metadata": {
        "id": "xZH_bFhlM5OG",
        "colab_type": "code",
        "colab": {}
      },
      "cell_type": "code",
      "source": [
        "'''From the earlier data.describe() output, \n",
        "I observed that the values of 2 variables - price and area - \n",
        "are large and will affect the absolute numbers of the regression model. \n",
        "To manage this, I will normalise the data using log.'''\n",
        "\n",
        "df['Price'] = np.log(df['Price'])\n",
        "df['Area'] = np.log(df['Area'])"
      ],
      "execution_count": 0,
      "outputs": []
    },
    {
      "metadata": {
        "id": "UDN4LH7f6fea",
        "colab_type": "code",
        "colab": {}
      },
      "cell_type": "code",
      "source": [
        "X = df.iloc[:,1:4].values\n",
        "y = df.iloc[:, 0].values"
      ],
      "execution_count": 0,
      "outputs": []
    },
    {
      "metadata": {
        "id": "HoQ-3RJa8oH9",
        "colab_type": "code",
        "colab": {}
      },
      "cell_type": "code",
      "source": [
        "#dummy variable for Location\n",
        "from sklearn.preprocessing import LabelEncoder , OneHotEncoder\n",
        "labelencoder_X = LabelEncoder()\n",
        "X[:, 2] = labelencoder_X.fit_transform(X[:, 2])\n",
        "onehotencoder = OneHotEncoder(categorical_features = [2])\n",
        "X = onehotencoder.fit_transform(X).toarray()"
      ],
      "execution_count": 0,
      "outputs": []
    },
    {
      "metadata": {
        "id": "851TRscS6fce",
        "colab_type": "code",
        "colab": {}
      },
      "cell_type": "code",
      "source": [
        "#Spliting ddataset into train and testing set\n",
        "\n",
        "X_train, X_test, y_train, y_test = train_test_split(X, y, test_size=0.33, random_state=42)"
      ],
      "execution_count": 0,
      "outputs": []
    },
    {
      "metadata": {
        "id": "mZoogMcy6faN",
        "colab_type": "code",
        "colab": {
          "base_uri": "https://localhost:8080/",
          "height": 51
        },
        "outputId": "3fef11e0-7bc1-4fb1-d92d-48855ef2c558"
      },
      "cell_type": "code",
      "source": [
        "#fitting Linear regression model\n",
        "from sklearn.linear_model import LinearRegression\n",
        "regressor = LinearRegression()\n",
        "regressor.fit(X_train, y_train)"
      ],
      "execution_count": 59,
      "outputs": [
        {
          "output_type": "execute_result",
          "data": {
            "text/plain": [
              "LinearRegression(copy_X=True, fit_intercept=True, n_jobs=None,\n",
              "         normalize=False)"
            ]
          },
          "metadata": {
            "tags": []
          },
          "execution_count": 59
        }
      ]
    },
    {
      "metadata": {
        "id": "6hhQVdjJIu8U",
        "colab_type": "code",
        "colab": {
          "base_uri": "https://localhost:8080/",
          "height": 51
        },
        "outputId": "782e552e-6f75-435e-951c-1c3b6ef5784e"
      },
      "cell_type": "code",
      "source": [
        "y_pred = regressor.predict(X_test)\n",
        "y_pred"
      ],
      "execution_count": 78,
      "outputs": [
        {
          "output_type": "execute_result",
          "data": {
            "text/plain": [
              "array([18.09133366, 17.2973249 , 15.88983643, ..., 18.25811924,\n",
              "       16.54419066, 16.77715532])"
            ]
          },
          "metadata": {
            "tags": []
          },
          "execution_count": 78
        }
      ]
    },
    {
      "metadata": {
        "id": "FJkwdFHOJCso",
        "colab_type": "code",
        "colab": {
          "base_uri": "https://localhost:8080/",
          "height": 562
        },
        "outputId": "b69e47f5-5cca-4af3-d0a1-339535eba093"
      },
      "cell_type": "code",
      "source": [
        "#Building the optimal model using Backward Elimination\n",
        "import statsmodels.formula.api as sm\n",
        "X = np.append(arr = np.ones((4447, 1)).astype(int), values = X, axis= 1)\n",
        "X_opt = X[:, [0,1,2,3,4,5]]\n",
        "regressor_OLS = sm.OLS(endog= y, exog= X_opt).fit()\n",
        "regressor_OLS.summary()"
      ],
      "execution_count": 73,
      "outputs": [
        {
          "output_type": "execute_result",
          "data": {
            "text/html": [
              "<table class=\"simpletable\">\n",
              "<caption>OLS Regression Results</caption>\n",
              "<tr>\n",
              "  <th>Dep. Variable:</th>            <td>y</td>        <th>  R-squared:         </th> <td>  -0.074</td> \n",
              "</tr>\n",
              "<tr>\n",
              "  <th>Model:</th>                   <td>OLS</td>       <th>  Adj. R-squared:    </th> <td>  -0.075</td> \n",
              "</tr>\n",
              "<tr>\n",
              "  <th>Method:</th>             <td>Least Squares</td>  <th>  F-statistic:       </th> <td>  -101.8</td> \n",
              "</tr>\n",
              "<tr>\n",
              "  <th>Date:</th>             <td>Sun, 28 Apr 2019</td> <th>  Prob (F-statistic):</th>  <td>  1.00</td>  \n",
              "</tr>\n",
              "<tr>\n",
              "  <th>Time:</th>                 <td>09:21:35</td>     <th>  Log-Likelihood:    </th> <td> -5767.7</td> \n",
              "</tr>\n",
              "<tr>\n",
              "  <th>No. Observations:</th>      <td>  4447</td>      <th>  AIC:               </th> <td>1.154e+04</td>\n",
              "</tr>\n",
              "<tr>\n",
              "  <th>Df Residuals:</th>          <td>  4443</td>      <th>  BIC:               </th> <td>1.157e+04</td>\n",
              "</tr>\n",
              "<tr>\n",
              "  <th>Df Model:</th>              <td>     3</td>      <th>                     </th>     <td> </td>    \n",
              "</tr>\n",
              "<tr>\n",
              "  <th>Covariance Type:</th>      <td>nonrobust</td>    <th>                     </th>     <td> </td>    \n",
              "</tr>\n",
              "</table>\n",
              "<table class=\"simpletable\">\n",
              "<tr>\n",
              "    <td></td>       <th>coef</th>     <th>std err</th>      <th>t</th>      <th>P>|t|</th>  <th>[0.025</th>    <th>0.975]</th>  \n",
              "</tr>\n",
              "<tr>\n",
              "  <th>const</th> <td>-2.767e+13</td> <td> 1.48e+12</td> <td>  -18.698</td> <td> 0.000</td> <td>-3.06e+13</td> <td>-2.48e+13</td>\n",
              "</tr>\n",
              "<tr>\n",
              "  <th>x1</th>    <td> 9.222e+12</td> <td> 4.93e+11</td> <td>   18.698</td> <td> 0.000</td> <td> 8.26e+12</td> <td> 1.02e+13</td>\n",
              "</tr>\n",
              "<tr>\n",
              "  <th>x2</th>    <td> 9.223e+12</td> <td> 4.93e+11</td> <td>   18.698</td> <td> 0.000</td> <td> 8.26e+12</td> <td> 1.02e+13</td>\n",
              "</tr>\n",
              "<tr>\n",
              "  <th>x3</th>    <td> 9.223e+12</td> <td> 4.93e+11</td> <td>   18.698</td> <td> 0.000</td> <td> 8.26e+12</td> <td> 1.02e+13</td>\n",
              "</tr>\n",
              "<tr>\n",
              "  <th>x4</th>    <td>   -0.3157</td> <td>    0.626</td> <td>   -0.504</td> <td> 0.614</td> <td>   -1.544</td> <td>    0.912</td>\n",
              "</tr>\n",
              "<tr>\n",
              "  <th>x5</th>    <td>   -0.9529</td> <td>    0.886</td> <td>   -1.076</td> <td> 0.282</td> <td>   -2.689</td> <td>    0.784</td>\n",
              "</tr>\n",
              "</table>\n",
              "<table class=\"simpletable\">\n",
              "<tr>\n",
              "  <th>Omnibus:</th>       <td>2440.447</td> <th>  Durbin-Watson:     </th>  <td>   1.237</td> \n",
              "</tr>\n",
              "<tr>\n",
              "  <th>Prob(Omnibus):</th>  <td> 0.000</td>  <th>  Jarque-Bera (JB):  </th> <td>204099.423</td>\n",
              "</tr>\n",
              "<tr>\n",
              "  <th>Skew:</th>           <td>-1.743</td>  <th>  Prob(JB):          </th>  <td>    0.00</td> \n",
              "</tr>\n",
              "<tr>\n",
              "  <th>Kurtosis:</th>       <td>36.005</td>  <th>  Cond. No.          </th>  <td>2.14e+25</td> \n",
              "</tr>\n",
              "</table><br/><br/>Warnings:<br/>[1] Standard Errors assume that the covariance matrix of the errors is correctly specified.<br/>[2] The smallest eigenvalue is 3.89e-47. This might indicate that there are<br/>strong multicollinearity problems or that the design matrix is singular."
            ],
            "text/plain": [
              "<class 'statsmodels.iolib.summary.Summary'>\n",
              "\"\"\"\n",
              "                            OLS Regression Results                            \n",
              "==============================================================================\n",
              "Dep. Variable:                      y   R-squared:                      -0.074\n",
              "Model:                            OLS   Adj. R-squared:                 -0.075\n",
              "Method:                 Least Squares   F-statistic:                    -101.8\n",
              "Date:                Sun, 28 Apr 2019   Prob (F-statistic):               1.00\n",
              "Time:                        09:21:35   Log-Likelihood:                -5767.7\n",
              "No. Observations:                4447   AIC:                         1.154e+04\n",
              "Df Residuals:                    4443   BIC:                         1.157e+04\n",
              "Df Model:                           3                                         \n",
              "Covariance Type:            nonrobust                                         \n",
              "==============================================================================\n",
              "                 coef    std err          t      P>|t|      [0.025      0.975]\n",
              "------------------------------------------------------------------------------\n",
              "const      -2.767e+13   1.48e+12    -18.698      0.000   -3.06e+13   -2.48e+13\n",
              "x1          9.222e+12   4.93e+11     18.698      0.000    8.26e+12    1.02e+13\n",
              "x2          9.223e+12   4.93e+11     18.698      0.000    8.26e+12    1.02e+13\n",
              "x3          9.223e+12   4.93e+11     18.698      0.000    8.26e+12    1.02e+13\n",
              "x4            -0.3157      0.626     -0.504      0.614      -1.544       0.912\n",
              "x5            -0.9529      0.886     -1.076      0.282      -2.689       0.784\n",
              "==============================================================================\n",
              "Omnibus:                     2440.447   Durbin-Watson:                   1.237\n",
              "Prob(Omnibus):                  0.000   Jarque-Bera (JB):           204099.423\n",
              "Skew:                          -1.743   Prob(JB):                         0.00\n",
              "Kurtosis:                      36.005   Cond. No.                     2.14e+25\n",
              "==============================================================================\n",
              "\n",
              "Warnings:\n",
              "[1] Standard Errors assume that the covariance matrix of the errors is correctly specified.\n",
              "[2] The smallest eigenvalue is 3.89e-47. This might indicate that there are\n",
              "strong multicollinearity problems or that the design matrix is singular.\n",
              "\"\"\""
            ]
          },
          "metadata": {
            "tags": []
          },
          "execution_count": 73
        }
      ]
    },
    {
      "metadata": {
        "id": "wW7LazFWKP3E",
        "colab_type": "code",
        "colab": {
          "base_uri": "https://localhost:8080/",
          "height": 541
        },
        "outputId": "f5b4b068-c07b-4e4a-fe35-e9404049dba7"
      },
      "cell_type": "code",
      "source": [
        "\n",
        "X_opt = X[:, [0,1,2,3,5]]\n",
        "regressor_OLS = sm.OLS(endog= y, exog= X_opt).fit()\n",
        "regressor_OLS.summary()"
      ],
      "execution_count": 74,
      "outputs": [
        {
          "output_type": "execute_result",
          "data": {
            "text/html": [
              "<table class=\"simpletable\">\n",
              "<caption>OLS Regression Results</caption>\n",
              "<tr>\n",
              "  <th>Dep. Variable:</th>            <td>y</td>        <th>  R-squared:         </th> <td>  -0.098</td> \n",
              "</tr>\n",
              "<tr>\n",
              "  <th>Model:</th>                   <td>OLS</td>       <th>  Adj. R-squared:    </th> <td>  -0.099</td> \n",
              "</tr>\n",
              "<tr>\n",
              "  <th>Method:</th>             <td>Least Squares</td>  <th>  F-statistic:       </th> <td>  -198.5</td> \n",
              "</tr>\n",
              "<tr>\n",
              "  <th>Date:</th>             <td>Sun, 28 Apr 2019</td> <th>  Prob (F-statistic):</th>  <td>  1.00</td>  \n",
              "</tr>\n",
              "<tr>\n",
              "  <th>Time:</th>                 <td>09:30:33</td>     <th>  Log-Likelihood:    </th> <td> -5817.4</td> \n",
              "</tr>\n",
              "<tr>\n",
              "  <th>No. Observations:</th>      <td>  4447</td>      <th>  AIC:               </th> <td>1.164e+04</td>\n",
              "</tr>\n",
              "<tr>\n",
              "  <th>Df Residuals:</th>          <td>  4444</td>      <th>  BIC:               </th> <td>1.166e+04</td>\n",
              "</tr>\n",
              "<tr>\n",
              "  <th>Df Model:</th>              <td>     2</td>      <th>                     </th>     <td> </td>    \n",
              "</tr>\n",
              "<tr>\n",
              "  <th>Covariance Type:</th>      <td>nonrobust</td>    <th>                     </th>     <td> </td>    \n",
              "</tr>\n",
              "</table>\n",
              "<table class=\"simpletable\">\n",
              "<tr>\n",
              "    <td></td>       <th>coef</th>     <th>std err</th>      <th>t</th>      <th>P>|t|</th>  <th>[0.025</th>    <th>0.975]</th>  \n",
              "</tr>\n",
              "<tr>\n",
              "  <th>const</th> <td>-2.767e+13</td> <td>  1.5e+12</td> <td>  -18.492</td> <td> 0.000</td> <td>-3.06e+13</td> <td>-2.47e+13</td>\n",
              "</tr>\n",
              "<tr>\n",
              "  <th>x1</th>    <td> 9.223e+12</td> <td> 4.99e+11</td> <td>   18.492</td> <td> 0.000</td> <td> 8.24e+12</td> <td> 1.02e+13</td>\n",
              "</tr>\n",
              "<tr>\n",
              "  <th>x2</th>    <td> 9.223e+12</td> <td> 4.99e+11</td> <td>   18.492</td> <td> 0.000</td> <td> 8.24e+12</td> <td> 1.02e+13</td>\n",
              "</tr>\n",
              "<tr>\n",
              "  <th>x3</th>    <td> 9.223e+12</td> <td> 4.99e+11</td> <td>   18.492</td> <td> 0.000</td> <td> 8.24e+12</td> <td> 1.02e+13</td>\n",
              "</tr>\n",
              "<tr>\n",
              "  <th>x4</th>    <td>   -0.9527</td> <td>    0.896</td> <td>   -1.064</td> <td> 0.287</td> <td>   -2.708</td> <td>    0.803</td>\n",
              "</tr>\n",
              "</table>\n",
              "<table class=\"simpletable\">\n",
              "<tr>\n",
              "  <th>Omnibus:</th>       <td>2439.887</td> <th>  Durbin-Watson:     </th>  <td>   1.210</td> \n",
              "</tr>\n",
              "<tr>\n",
              "  <th>Prob(Omnibus):</th>  <td> 0.000</td>  <th>  Jarque-Bera (JB):  </th> <td>204027.277</td>\n",
              "</tr>\n",
              "<tr>\n",
              "  <th>Skew:</th>           <td>-1.743</td>  <th>  Prob(JB):          </th>  <td>    0.00</td> \n",
              "</tr>\n",
              "<tr>\n",
              "  <th>Kurtosis:</th>       <td>36.000</td>  <th>  Cond. No.          </th>  <td>2.03e+30</td> \n",
              "</tr>\n",
              "</table><br/><br/>Warnings:<br/>[1] Standard Errors assume that the covariance matrix of the errors is correctly specified.<br/>[2] The smallest eigenvalue is 4.32e-57. This might indicate that there are<br/>strong multicollinearity problems or that the design matrix is singular."
            ],
            "text/plain": [
              "<class 'statsmodels.iolib.summary.Summary'>\n",
              "\"\"\"\n",
              "                            OLS Regression Results                            \n",
              "==============================================================================\n",
              "Dep. Variable:                      y   R-squared:                      -0.098\n",
              "Model:                            OLS   Adj. R-squared:                 -0.099\n",
              "Method:                 Least Squares   F-statistic:                    -198.5\n",
              "Date:                Sun, 28 Apr 2019   Prob (F-statistic):               1.00\n",
              "Time:                        09:30:33   Log-Likelihood:                -5817.4\n",
              "No. Observations:                4447   AIC:                         1.164e+04\n",
              "Df Residuals:                    4444   BIC:                         1.166e+04\n",
              "Df Model:                           2                                         \n",
              "Covariance Type:            nonrobust                                         \n",
              "==============================================================================\n",
              "                 coef    std err          t      P>|t|      [0.025      0.975]\n",
              "------------------------------------------------------------------------------\n",
              "const      -2.767e+13    1.5e+12    -18.492      0.000   -3.06e+13   -2.47e+13\n",
              "x1          9.223e+12   4.99e+11     18.492      0.000    8.24e+12    1.02e+13\n",
              "x2          9.223e+12   4.99e+11     18.492      0.000    8.24e+12    1.02e+13\n",
              "x3          9.223e+12   4.99e+11     18.492      0.000    8.24e+12    1.02e+13\n",
              "x4            -0.9527      0.896     -1.064      0.287      -2.708       0.803\n",
              "==============================================================================\n",
              "Omnibus:                     2439.887   Durbin-Watson:                   1.210\n",
              "Prob(Omnibus):                  0.000   Jarque-Bera (JB):           204027.277\n",
              "Skew:                          -1.743   Prob(JB):                         0.00\n",
              "Kurtosis:                      36.000   Cond. No.                     2.03e+30\n",
              "==============================================================================\n",
              "\n",
              "Warnings:\n",
              "[1] Standard Errors assume that the covariance matrix of the errors is correctly specified.\n",
              "[2] The smallest eigenvalue is 4.32e-57. This might indicate that there are\n",
              "strong multicollinearity problems or that the design matrix is singular.\n",
              "\"\"\""
            ]
          },
          "metadata": {
            "tags": []
          },
          "execution_count": 74
        }
      ]
    },
    {
      "metadata": {
        "id": "3poEe3rhMuWJ",
        "colab_type": "code",
        "colab": {
          "base_uri": "https://localhost:8080/",
          "height": 520
        },
        "outputId": "92045117-4067-4e72-ccb3-61d136c42ed4"
      },
      "cell_type": "code",
      "source": [
        "X_opt = X[:, [0,1,2,3]]\n",
        "regressor_OLS = sm.OLS(endog= y, exog= X_opt).fit()\n",
        "regressor_OLS.summary()"
      ],
      "execution_count": 76,
      "outputs": [
        {
          "output_type": "execute_result",
          "data": {
            "text/html": [
              "<table class=\"simpletable\">\n",
              "<caption>OLS Regression Results</caption>\n",
              "<tr>\n",
              "  <th>Dep. Variable:</th>            <td>y</td>        <th>  R-squared:         </th> <td>  -0.079</td> \n",
              "</tr>\n",
              "<tr>\n",
              "  <th>Model:</th>                   <td>OLS</td>       <th>  Adj. R-squared:    </th> <td>  -0.079</td> \n",
              "</tr>\n",
              "<tr>\n",
              "  <th>Method:</th>             <td>Least Squares</td>  <th>  F-statistic:       </th> <td>  -324.7</td> \n",
              "</tr>\n",
              "<tr>\n",
              "  <th>Date:</th>             <td>Sun, 28 Apr 2019</td> <th>  Prob (F-statistic):</th>  <td>  1.00</td>  \n",
              "</tr>\n",
              "<tr>\n",
              "  <th>Time:</th>                 <td>09:31:21</td>     <th>  Log-Likelihood:    </th> <td> -5778.1</td> \n",
              "</tr>\n",
              "<tr>\n",
              "  <th>No. Observations:</th>      <td>  4447</td>      <th>  AIC:               </th> <td>1.156e+04</td>\n",
              "</tr>\n",
              "<tr>\n",
              "  <th>Df Residuals:</th>          <td>  4445</td>      <th>  BIC:               </th> <td>1.157e+04</td>\n",
              "</tr>\n",
              "<tr>\n",
              "  <th>Df Model:</th>              <td>     1</td>      <th>                     </th>     <td> </td>    \n",
              "</tr>\n",
              "<tr>\n",
              "  <th>Covariance Type:</th>      <td>nonrobust</td>    <th>                     </th>     <td> </td>    \n",
              "</tr>\n",
              "</table>\n",
              "<table class=\"simpletable\">\n",
              "<tr>\n",
              "    <td></td>       <th>coef</th>     <th>std err</th>      <th>t</th>      <th>P>|t|</th>  <th>[0.025</th>    <th>0.975]</th>  \n",
              "</tr>\n",
              "<tr>\n",
              "  <th>const</th> <td>-1.538e+13</td> <td> 8.25e+11</td> <td>  -18.657</td> <td> 0.000</td> <td> -1.7e+13</td> <td>-1.38e+13</td>\n",
              "</tr>\n",
              "<tr>\n",
              "  <th>x1</th>    <td>  8.47e+12</td> <td> 4.54e+11</td> <td>   18.657</td> <td> 0.000</td> <td> 7.58e+12</td> <td> 9.36e+12</td>\n",
              "</tr>\n",
              "<tr>\n",
              "  <th>x2</th>    <td>  8.47e+12</td> <td> 4.54e+11</td> <td>   18.657</td> <td> 0.000</td> <td> 7.58e+12</td> <td> 9.36e+12</td>\n",
              "</tr>\n",
              "<tr>\n",
              "  <th>x3</th>    <td>-1.556e+12</td> <td> 8.34e+10</td> <td>  -18.657</td> <td> 0.000</td> <td>-1.72e+12</td> <td>-1.39e+12</td>\n",
              "</tr>\n",
              "</table>\n",
              "<table class=\"simpletable\">\n",
              "<tr>\n",
              "  <th>Omnibus:</th>       <td>2438.699</td> <th>  Durbin-Watson:     </th>  <td>   1.232</td> \n",
              "</tr>\n",
              "<tr>\n",
              "  <th>Prob(Omnibus):</th>  <td> 0.000</td>  <th>  Jarque-Bera (JB):  </th> <td>203764.503</td>\n",
              "</tr>\n",
              "<tr>\n",
              "  <th>Skew:</th>           <td>-1.741</td>  <th>  Prob(JB):          </th>  <td>    0.00</td> \n",
              "</tr>\n",
              "<tr>\n",
              "  <th>Kurtosis:</th>       <td>35.978</td>  <th>  Cond. No.          </th>  <td>1.34e+28</td> \n",
              "</tr>\n",
              "</table><br/><br/>Warnings:<br/>[1] Standard Errors assume that the covariance matrix of the errors is correctly specified.<br/>[2] The smallest eigenvalue is 9.9e-53. This might indicate that there are<br/>strong multicollinearity problems or that the design matrix is singular."
            ],
            "text/plain": [
              "<class 'statsmodels.iolib.summary.Summary'>\n",
              "\"\"\"\n",
              "                            OLS Regression Results                            \n",
              "==============================================================================\n",
              "Dep. Variable:                      y   R-squared:                      -0.079\n",
              "Model:                            OLS   Adj. R-squared:                 -0.079\n",
              "Method:                 Least Squares   F-statistic:                    -324.7\n",
              "Date:                Sun, 28 Apr 2019   Prob (F-statistic):               1.00\n",
              "Time:                        09:31:21   Log-Likelihood:                -5778.1\n",
              "No. Observations:                4447   AIC:                         1.156e+04\n",
              "Df Residuals:                    4445   BIC:                         1.157e+04\n",
              "Df Model:                           1                                         \n",
              "Covariance Type:            nonrobust                                         \n",
              "==============================================================================\n",
              "                 coef    std err          t      P>|t|      [0.025      0.975]\n",
              "------------------------------------------------------------------------------\n",
              "const      -1.538e+13   8.25e+11    -18.657      0.000    -1.7e+13   -1.38e+13\n",
              "x1           8.47e+12   4.54e+11     18.657      0.000    7.58e+12    9.36e+12\n",
              "x2           8.47e+12   4.54e+11     18.657      0.000    7.58e+12    9.36e+12\n",
              "x3         -1.556e+12   8.34e+10    -18.657      0.000   -1.72e+12   -1.39e+12\n",
              "==============================================================================\n",
              "Omnibus:                     2438.699   Durbin-Watson:                   1.232\n",
              "Prob(Omnibus):                  0.000   Jarque-Bera (JB):           203764.503\n",
              "Skew:                          -1.741   Prob(JB):                         0.00\n",
              "Kurtosis:                      35.978   Cond. No.                     1.34e+28\n",
              "==============================================================================\n",
              "\n",
              "Warnings:\n",
              "[1] Standard Errors assume that the covariance matrix of the errors is correctly specified.\n",
              "[2] The smallest eigenvalue is 9.9e-53. This might indicate that there are\n",
              "strong multicollinearity problems or that the design matrix is singular.\n",
              "\"\"\""
            ]
          },
          "metadata": {
            "tags": []
          },
          "execution_count": 76
        }
      ]
    },
    {
      "metadata": {
        "id": "k04V190kSgiV",
        "colab_type": "code",
        "colab": {}
      },
      "cell_type": "code",
      "source": [
        ""
      ],
      "execution_count": 0,
      "outputs": []
    },
    {
      "metadata": {
        "id": "fz-jEbadShhu",
        "colab_type": "code",
        "colab": {}
      },
      "cell_type": "code",
      "source": [
        ""
      ],
      "execution_count": 0,
      "outputs": []
    }
  ]
}